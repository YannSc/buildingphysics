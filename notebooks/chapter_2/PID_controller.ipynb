{
 "cells": [
  {
   "cell_type": "markdown",
   "metadata": {},
   "source": [
    "# PID controller\n",
    "\n",
    "An illustration of Proportional-Integral-Derivative controler. In this example, a water draining tank has its water volum controled by a PID. The associated equations are detailed in the book in 3.1.\n",
    "\n",
    "The water height in the tank follows the equation 2.24 :\n",
    "$ h_+ = h + \\frac{\\Delta t}{S_r} (Q - S_s \\sqrt{2gh})$  with $Q$ the water inflow controled by the PID, $S_r$ the tank surface, $S_s$ the outlet surface."
   ]
  },
  {
   "cell_type": "markdown",
   "metadata": {},
   "source": [
    "Some dependencies import and plot color definition.\n",
    "\n"
   ]
  },
  {
   "cell_type": "code",
   "execution_count": 18,
   "metadata": {},
   "outputs": [],
   "source": [
    "import numpy as np\n",
    "import matplotlib.pyplot as plt\n",
    "import math\n",
    "from ipywidgets import interact, interactive, fixed, interact_manual\n",
    "import ipywidgets as widgets\n",
    "rouge_A='#C60C2E'\n",
    "vert1_A='#005157'\n",
    "vert2_A='#627D77'\n",
    "vert3_A='#9EB28F'\n",
    "vert4_A='#C5E5A4'\n",
    "medblue='royalblue'\n",
    "gris1_A='#595A5C'\n",
    "\n",
    "colors=[rouge_A, vert1_A, vert2_A, vert3_A, vert4_A, medblue, gris1_A]"
   ]
  },
  {
   "cell_type": "markdown",
   "metadata": {},
   "source": [
    "Helper function to modelize the valve behavior.\n"
   ]
  },
  {
   "cell_type": "code",
   "execution_count": 19,
   "metadata": {},
   "outputs": [],
   "source": [
    "def fc_valve_curve(characteristic, valve_pos,Qmax):\n",
    "    if characteristic == \"linear\":\n",
    "        Qalim = Qmax * valve_pos\n",
    "    elif characteristic == \"equal_pct\":\n",
    "        Qalim = Qmax * np.exp(3.5 * (valve_pos - 1))\n",
    "    elif characteristic == \"quadratic\":\n",
    "        Qalim = Qmax * valve_pos**2\n",
    "    return Qalim"
   ]
  },
  {
   "cell_type": "markdown",
   "metadata": {},
   "source": [
    "Constant definitions and valve model selection.\n"
   ]
  },
  {
   "cell_type": "code",
   "execution_count": 20,
   "metadata": {},
   "outputs": [
    {
     "name": "stdout",
     "output_type": "stream",
     "text": [
      "0.007087115068912033\n"
     ]
    }
   ],
   "source": [
    "\n",
    "#valve characteristic =\"equal_pct\" or \"quadratic\" or \"linear\"\n",
    "characteristic=\"linear\" \n",
    "\n",
    "# Geometrical data\n",
    "Pi = math.pi # pi approximation\n",
    "Dr = 1 #m the tank diameter\n",
    "Ds = 0.04 #m the water outlet diameter\n",
    "Sr = Pi * Dr**2 / 4 #m² tank surface \n",
    "Ss = Pi * Ds**2 / 4 #m² water outlet surface\n",
    "H0 = 1 #m tank height\n",
    "\n",
    "B = Ss / Sr * np.sqrt(2 * 9.81) # B, constant in the equation\n",
    "print(B)"
   ]
  },
  {
   "cell_type": "markdown",
   "metadata": {},
   "source": [
    "The PID is defined by gains for proportionnal, derivative and integral corrections. Initial values are also setup for the simulation."
   ]
  },
  {
   "cell_type": "code",
   "execution_count": 21,
   "metadata": {},
   "outputs": [],
   "source": [
    "# PID parameters\n",
    "prop_band = 0.5 # m\n",
    "KP = 1 / prop_band # proportional gain \n",
    "Tn = 15 # Integration time\n",
    "Td = 0 # Derivation time\n",
    "\n",
    "Qmax = 10 # L/s supply flowrate\n",
    "Qmax = Qmax / 1000 #conversion to m3/s\n",
    "\n",
    "# initial values\n",
    "h = H0 #m, reference water height value\n",
    "Qalim = 0  # initial value for inflow rate\n",
    "sim_time= 600 # simulation duration s\n",
    "\n",
    "# time and timestep\n",
    "t = 0\n",
    "dt = 0.05 # [s] time stem /sampling rate\n",
    "\n",
    "#Reset values\n",
    "sum_error = 0\n",
    "delta_error = 0\n",
    "valve_position = 0\n",
    "deltaT_previous = 0\n",
    "\n",
    "pcent_P,pcent_I,pcent_D=[],[],[]\n",
    "time,height=[],[]\n",
    "v_pos=[]"
   ]
  },
  {
   "cell_type": "markdown",
   "metadata": {},
   "source": [
    "For each timestep, the proportionnal, derivative and integral action are computed. The equation has been transformed as : \n",
    "$ h_+ = h + dt (A - B \\sqrt{h})$ with $A =  \\frac{Q}{S_r}$ and $B =  \\frac{S_s  \\sqrt{2g}}{Sr}$ .\n",
    "\n",
    "Given the error $e$, difference between the measure output\n",
    "\n",
    "- Proportionnal error is defined as $P_e(t+dt) = H_0 - h(t)$\n",
    "- Integral error is defined as $I_e(t+dt) = \\frac{dt}{Tn} (H_0 - h(t)) + I_e(t)$\n",
    "- Derivative error is defined as $D_e(t+dt) = \\frac{(H_0 - h(t)) - D_e(t)}{dt} $\n"
   ]
  },
  {
   "cell_type": "code",
   "execution_count": 22,
   "metadata": {},
   "outputs": [],
   "source": [
    "#Euler explicit for water height\n",
    "A = Qalim / Sr #compute A \n",
    "h = dt * (A - B * np.sqrt(h)) + h\n",
    "#proportionnal error\n",
    "prop_error = (H0 - h)\n",
    "#integral error\n",
    "sum_error = dt / Tn * prop_error + sum_error\n",
    "#derivative error\n",
    "delta_error = Td * (prop_error - deltaT_previous) / dt\n",
    "#computation of the valve position with PID\n",
    "valve_position = KP * (prop_error + sum_error +  delta_error)\n"
   ]
  },
  {
   "cell_type": "markdown",
   "metadata": {},
   "source": [
    "The valve opening value is then updated."
   ]
  },
  {
   "cell_type": "code",
   "execution_count": 23,
   "metadata": {},
   "outputs": [],
   "source": [
    "if valve_position < 0:\n",
    "    valve_position = 0\n",
    "    Qalim = 0\n",
    "elif valve_position > 1:\n",
    "    valve_position = 1\n",
    "    Qalim = Qmax\n",
    "else:\n",
    "    Qalim=fc_valve_curve(characteristic, valve_position,Qmax)"
   ]
  },
  {
   "cell_type": "markdown",
   "metadata": {},
   "source": [
    "An interactive plot is available here with PID gain and B_m (=B x 1000) value to be modified. As a reminder,\n",
    "$B $ is proportionnel to $ S_s/S_r$.\n",
    "Integral and derivative components of the PID can also be modified with the edition of Tn and Td values."
   ]
  },
  {
   "cell_type": "code",
   "execution_count": 49,
   "metadata": {},
   "outputs": [],
   "source": [
    "def plot_water_tank_evolution(KP, B_m,Tn,Td, sim_time,):\n",
    "    H0 = 1\n",
    "    h = H0\n",
    "    Qalim = 0  # initial value for inflow rate\n",
    "    B = B_m / 1000\n",
    "    # time and timestep\n",
    "    t = 0\n",
    "    dt = 0.05 # [s] time stem /sampling rate\n",
    "\n",
    "    #Reset values\n",
    "    sum_error = 0\n",
    "    delta_error = 0\n",
    "    valve_position = 0\n",
    "    deltaT_previous = 0\n",
    "\n",
    "    pcent_P,pcent_I,pcent_D=[],[],[]\n",
    "    time,height=[],[]\n",
    "    v_pos=[]\n",
    "    while t <= sim_time:\n",
    "        #Euler explicit for water height\n",
    "        A = Qalim / Sr #compute A \n",
    "        h = dt * (A - B * np.sqrt(h)) + h\n",
    "        #proportionnal error\n",
    "        prop_error = (H0 - h)\n",
    "        #integral error\n",
    "        sum_error = dt / Tn * prop_error + sum_error\n",
    "        #derivative error\n",
    "        delta_error = Td * (prop_error - deltaT_previous) / dt\n",
    "        #computation of the valve position with PID\n",
    "        valve_position = KP * (prop_error + sum_error +  delta_error)\n",
    "\n",
    "        #Control for valve opening\n",
    "        if valve_position < 0:\n",
    "            valve_position = 0\n",
    "            Qalim = 0\n",
    "        elif valve_position > 1:\n",
    "            valve_position = 1\n",
    "            Qalim = Qmax\n",
    "        else:\n",
    "            Qalim=fc_valve_curve(characteristic, valve_position,Qmax)\n",
    "        v_pos.append(valve_position)\n",
    "        # let's see and plot who does what at each time step\n",
    "        if valve_position > 0:\n",
    "            pcent_P.append(abs (prop_error) * KP / valve_position)\n",
    "            pcent_I.append( sum_error + KP * prop_error * (dt / Tn) / valve_position)\n",
    "            pcent_D.append(KP * ( delta_error ) / valve_position)\n",
    "        else:\n",
    "            pcent_P.append(0)\n",
    "            pcent_I.append(0)\n",
    "            pcent_D.append(0)\n",
    "        deltaT_previous = prop_error\n",
    "        t+=dt\n",
    "        time.append(t)\n",
    "        height.append(h)\n",
    "\n",
    "    plt.subplot(121)\n",
    "    plt.xlabel(\"Time [s]\")\n",
    "    plt.ylabel(\"Water height [m]\")\n",
    "    plt.plot(time, height,color=colors[-2],linestyle=\"-\",alpha=1,marker='')\n",
    "    plt.plot(time, np.ones(len(time))*H0,color=colors[-1],linestyle=\"--\",alpha=0.85,marker='')\n",
    "\n",
    "    plt.subplot(122)\n",
    "    plt.xlabel(\"Time [s]\")\n",
    "    plt.ylabel(\"Share of P, I and D in the valve opening [-]\")\n",
    "    plt.plot(time, pcent_P,color=colors[0],linestyle=\"-\",alpha=1,marker='',label=\"P\")\n",
    "    plt.plot(time, pcent_I,color=colors[1],linestyle=\"-\",alpha=1,marker='',label=\"I\")\n",
    "    if Td != 0:\n",
    "        plt.plot(time, pcent_D,color=colors[2],linestyle=\"-\",alpha=1,marker='',label=\"D\")\n",
    "    plt.plot(time, v_pos,color=colors[-1],linestyle=\"--\",alpha=0.95,marker='',label=\"valve position\")\n",
    "\n",
    "    plt.legend()\n",
    "    plt.tight_layout()"
   ]
  },
  {
   "cell_type": "code",
   "execution_count": 53,
   "metadata": {},
   "outputs": [
    {
     "data": {
      "application/vnd.jupyter.widget-view+json": {
       "model_id": "3e78245666734948bdc176858be11f6e",
       "version_major": 2,
       "version_minor": 0
      },
      "text/plain": [
       "interactive(children=(FloatSlider(value=2.0, description='KP', max=10.0, min=0.01), FloatSlider(value=7.0, des…"
      ]
     },
     "metadata": {},
     "output_type": "display_data"
    },
    {
     "data": {
      "text/plain": [
       "<function __main__.plot_water_tank_evolution(KP, B_m, Tn, Td, sim_time)>"
      ]
     },
     "execution_count": 53,
     "metadata": {},
     "output_type": "execute_result"
    }
   ],
   "source": [
    "plt.rcParams[\"figure.figsize\"] = (12,5)\n",
    "\n",
    "interact_manual(plot_water_tank_evolution, KP = widgets.FloatSlider(value=2,    min=0.01,\n",
    "                                               max=10,\n",
    "                                               step=0.1),\n",
    "                \n",
    "                B_m = widgets.FloatSlider(value=7,    min=1,\n",
    "                                               max=15,\n",
    "                                               step=1),\n",
    "                Td = widgets.IntSlider(value=0,    min=0,\n",
    "                                               max=100,\n",
    "                                               step=1),\n",
    "                Tn = widgets.IntSlider(value=15,    min=0,\n",
    "                                               max=100,\n",
    "                                               step=1),\n",
    "                sim_time = widgets.IntSlider(value=600,    min=50,\n",
    "                                               max=5000,\n",
    "                                               step=50),\n",
    "                 )"
   ]
  },
  {
   "cell_type": "markdown",
   "metadata": {},
   "source": [
    "What happens when the derivative component is increased ? When the proportionnal component is increased ? "
   ]
  },
  {
   "cell_type": "code",
   "execution_count": null,
   "metadata": {},
   "outputs": [],
   "source": []
  }
 ],
 "metadata": {
  "kernelspec": {
   "display_name": "Python 3",
   "language": "python",
   "name": "python3"
  },
  "language_info": {
   "codemirror_mode": {
    "name": "ipython",
    "version": 3
   },
   "file_extension": ".py",
   "mimetype": "text/x-python",
   "name": "python",
   "nbconvert_exporter": "python",
   "pygments_lexer": "ipython3",
   "version": "3.6.9"
  }
 },
 "nbformat": 4,
 "nbformat_minor": 4
}
