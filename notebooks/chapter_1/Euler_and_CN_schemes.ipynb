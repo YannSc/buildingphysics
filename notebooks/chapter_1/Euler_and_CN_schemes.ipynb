{
  "nbformat": 4,
  "nbformat_minor": 0,
  "metadata": {
    "colab": {
      "name": "Untitled0.ipynb",
      "provenance": [],
      "authorship_tag": "ABX9TyOcOEPjNedz/6XXxkSICZ26",
      "include_colab_link": true
    },
    "kernelspec": {
      "name": "python3",
      "display_name": "Python 3"
    },
    "widgets": {
      "application/vnd.jupyter.widget-state+json": {
        "a852f91ad78c42c7903fe34749adbca1": {
          "model_module": "@jupyter-widgets/controls",
          "model_name": "VBoxModel",
          "state": {
            "_view_name": "VBoxView",
            "_dom_classes": [
              "widget-interact"
            ],
            "_model_name": "VBoxModel",
            "_view_module": "@jupyter-widgets/controls",
            "_model_module_version": "1.5.0",
            "_view_count": null,
            "_view_module_version": "1.5.0",
            "box_style": "",
            "layout": "IPY_MODEL_de1c371fb86b48d78b9fade0a1879a95",
            "_model_module": "@jupyter-widgets/controls",
            "children": [
              "IPY_MODEL_19ba4eac3e974c369938a365ecf8f3b2",
              "IPY_MODEL_8123316436ac48cea0706578f05969c6",
              "IPY_MODEL_9d85c42f5a994b4fbb57d11af03295c2"
            ]
          }
        },
        "de1c371fb86b48d78b9fade0a1879a95": {
          "model_module": "@jupyter-widgets/base",
          "model_name": "LayoutModel",
          "state": {
            "_view_name": "LayoutView",
            "grid_template_rows": null,
            "right": null,
            "justify_content": null,
            "_view_module": "@jupyter-widgets/base",
            "overflow": null,
            "_model_module_version": "1.2.0",
            "_view_count": null,
            "flex_flow": null,
            "width": null,
            "min_width": null,
            "border": null,
            "align_items": null,
            "bottom": null,
            "_model_module": "@jupyter-widgets/base",
            "top": null,
            "grid_column": null,
            "overflow_y": null,
            "overflow_x": null,
            "grid_auto_flow": null,
            "grid_area": null,
            "grid_template_columns": null,
            "flex": null,
            "_model_name": "LayoutModel",
            "justify_items": null,
            "grid_row": null,
            "max_height": null,
            "align_content": null,
            "visibility": null,
            "align_self": null,
            "height": null,
            "min_height": null,
            "padding": null,
            "grid_auto_rows": null,
            "grid_gap": null,
            "max_width": null,
            "order": null,
            "_view_module_version": "1.2.0",
            "grid_template_areas": null,
            "object_position": null,
            "object_fit": null,
            "grid_auto_columns": null,
            "margin": null,
            "display": null,
            "left": null
          }
        },
        "19ba4eac3e974c369938a365ecf8f3b2": {
          "model_module": "@jupyter-widgets/controls",
          "model_name": "FloatSliderModel",
          "state": {
            "_view_name": "FloatSliderView",
            "style": "IPY_MODEL_9af09d94e3454b4d90518a12677ddd28",
            "_dom_classes": [],
            "description": "Fo",
            "step": 0.1,
            "_model_name": "FloatSliderModel",
            "orientation": "horizontal",
            "max": 1,
            "_view_module": "@jupyter-widgets/controls",
            "_model_module_version": "1.5.0",
            "value": 0.2,
            "_view_count": null,
            "disabled": false,
            "_view_module_version": "1.5.0",
            "min": 0,
            "continuous_update": true,
            "readout_format": ".2f",
            "description_tooltip": null,
            "readout": true,
            "_model_module": "@jupyter-widgets/controls",
            "layout": "IPY_MODEL_7cdcf31d704241b88cd1fc287a3a4af7"
          }
        },
        "8123316436ac48cea0706578f05969c6": {
          "model_module": "@jupyter-widgets/controls",
          "model_name": "ButtonModel",
          "state": {
            "_view_name": "ButtonView",
            "style": "IPY_MODEL_64d0d5c5d3844340986bce71d7945bb8",
            "_dom_classes": [],
            "description": "Run Interact",
            "_model_name": "ButtonModel",
            "button_style": "",
            "_view_module": "@jupyter-widgets/controls",
            "_model_module_version": "1.5.0",
            "tooltip": "",
            "_view_count": null,
            "disabled": false,
            "_view_module_version": "1.5.0",
            "layout": "IPY_MODEL_f9790d93f5aa49428880ca88d8796504",
            "_model_module": "@jupyter-widgets/controls",
            "icon": ""
          }
        },
        "9d85c42f5a994b4fbb57d11af03295c2": {
          "model_module": "@jupyter-widgets/output",
          "model_name": "OutputModel",
          "state": {
            "_view_name": "OutputView",
            "msg_id": "",
            "_dom_classes": [],
            "_model_name": "OutputModel",
            "outputs": [
              {
                "output_type": "display_data",
                "metadata": {
                  "tags": [],
                  "needs_background": "light"
                },
                "image/png": "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\n",
                "text/plain": "<Figure size 576x360 with 1 Axes>"
              }
            ],
            "_view_module": "@jupyter-widgets/output",
            "_model_module_version": "1.0.0",
            "_view_count": null,
            "_view_module_version": "1.0.0",
            "layout": "IPY_MODEL_2ad0e35d7c5d481196ba1c184252f333",
            "_model_module": "@jupyter-widgets/output"
          }
        },
        "9af09d94e3454b4d90518a12677ddd28": {
          "model_module": "@jupyter-widgets/controls",
          "model_name": "SliderStyleModel",
          "state": {
            "_view_name": "StyleView",
            "handle_color": null,
            "_model_name": "SliderStyleModel",
            "description_width": "",
            "_view_module": "@jupyter-widgets/base",
            "_model_module_version": "1.5.0",
            "_view_count": null,
            "_view_module_version": "1.2.0",
            "_model_module": "@jupyter-widgets/controls"
          }
        },
        "7cdcf31d704241b88cd1fc287a3a4af7": {
          "model_module": "@jupyter-widgets/base",
          "model_name": "LayoutModel",
          "state": {
            "_view_name": "LayoutView",
            "grid_template_rows": null,
            "right": null,
            "justify_content": null,
            "_view_module": "@jupyter-widgets/base",
            "overflow": null,
            "_model_module_version": "1.2.0",
            "_view_count": null,
            "flex_flow": null,
            "width": null,
            "min_width": null,
            "border": null,
            "align_items": null,
            "bottom": null,
            "_model_module": "@jupyter-widgets/base",
            "top": null,
            "grid_column": null,
            "overflow_y": null,
            "overflow_x": null,
            "grid_auto_flow": null,
            "grid_area": null,
            "grid_template_columns": null,
            "flex": null,
            "_model_name": "LayoutModel",
            "justify_items": null,
            "grid_row": null,
            "max_height": null,
            "align_content": null,
            "visibility": null,
            "align_self": null,
            "height": null,
            "min_height": null,
            "padding": null,
            "grid_auto_rows": null,
            "grid_gap": null,
            "max_width": null,
            "order": null,
            "_view_module_version": "1.2.0",
            "grid_template_areas": null,
            "object_position": null,
            "object_fit": null,
            "grid_auto_columns": null,
            "margin": null,
            "display": null,
            "left": null
          }
        },
        "64d0d5c5d3844340986bce71d7945bb8": {
          "model_module": "@jupyter-widgets/controls",
          "model_name": "ButtonStyleModel",
          "state": {
            "_view_name": "StyleView",
            "_model_name": "ButtonStyleModel",
            "_view_module": "@jupyter-widgets/base",
            "_model_module_version": "1.5.0",
            "_view_count": null,
            "button_color": null,
            "font_weight": "",
            "_view_module_version": "1.2.0",
            "_model_module": "@jupyter-widgets/controls"
          }
        },
        "f9790d93f5aa49428880ca88d8796504": {
          "model_module": "@jupyter-widgets/base",
          "model_name": "LayoutModel",
          "state": {
            "_view_name": "LayoutView",
            "grid_template_rows": null,
            "right": null,
            "justify_content": null,
            "_view_module": "@jupyter-widgets/base",
            "overflow": null,
            "_model_module_version": "1.2.0",
            "_view_count": null,
            "flex_flow": null,
            "width": null,
            "min_width": null,
            "border": null,
            "align_items": null,
            "bottom": null,
            "_model_module": "@jupyter-widgets/base",
            "top": null,
            "grid_column": null,
            "overflow_y": null,
            "overflow_x": null,
            "grid_auto_flow": null,
            "grid_area": null,
            "grid_template_columns": null,
            "flex": null,
            "_model_name": "LayoutModel",
            "justify_items": null,
            "grid_row": null,
            "max_height": null,
            "align_content": null,
            "visibility": null,
            "align_self": null,
            "height": null,
            "min_height": null,
            "padding": null,
            "grid_auto_rows": null,
            "grid_gap": null,
            "max_width": null,
            "order": null,
            "_view_module_version": "1.2.0",
            "grid_template_areas": null,
            "object_position": null,
            "object_fit": null,
            "grid_auto_columns": null,
            "margin": null,
            "display": null,
            "left": null
          }
        },
        "2ad0e35d7c5d481196ba1c184252f333": {
          "model_module": "@jupyter-widgets/base",
          "model_name": "LayoutModel",
          "state": {
            "_view_name": "LayoutView",
            "grid_template_rows": null,
            "right": null,
            "justify_content": null,
            "_view_module": "@jupyter-widgets/base",
            "overflow": null,
            "_model_module_version": "1.2.0",
            "_view_count": null,
            "flex_flow": null,
            "width": null,
            "min_width": null,
            "border": null,
            "align_items": null,
            "bottom": null,
            "_model_module": "@jupyter-widgets/base",
            "top": null,
            "grid_column": null,
            "overflow_y": null,
            "overflow_x": null,
            "grid_auto_flow": null,
            "grid_area": null,
            "grid_template_columns": null,
            "flex": null,
            "_model_name": "LayoutModel",
            "justify_items": null,
            "grid_row": null,
            "max_height": null,
            "align_content": null,
            "visibility": null,
            "align_self": null,
            "height": null,
            "min_height": null,
            "padding": null,
            "grid_auto_rows": null,
            "grid_gap": null,
            "max_width": null,
            "order": null,
            "_view_module_version": "1.2.0",
            "grid_template_areas": null,
            "object_position": null,
            "object_fit": null,
            "grid_auto_columns": null,
            "margin": null,
            "display": null,
            "left": null
          }
        },
        "1c8336c6ba0b47dc88024ad628cbb421": {
          "model_module": "@jupyter-widgets/controls",
          "model_name": "VBoxModel",
          "state": {
            "_view_name": "VBoxView",
            "_dom_classes": [
              "widget-interact"
            ],
            "_model_name": "VBoxModel",
            "_view_module": "@jupyter-widgets/controls",
            "_model_module_version": "1.5.0",
            "_view_count": null,
            "_view_module_version": "1.5.0",
            "box_style": "",
            "layout": "IPY_MODEL_cc9a9921f8a645078910c76b734d657a",
            "_model_module": "@jupyter-widgets/controls",
            "children": [
              "IPY_MODEL_ea5952f7f30c45f2ae9beec9b71db353",
              "IPY_MODEL_6d85e8c8b9384ce0b238b86fbd0f2c3e",
              "IPY_MODEL_7b23e202b3ea4100b12f2a0805b3e92e"
            ]
          }
        },
        "cc9a9921f8a645078910c76b734d657a": {
          "model_module": "@jupyter-widgets/base",
          "model_name": "LayoutModel",
          "state": {
            "_view_name": "LayoutView",
            "grid_template_rows": null,
            "right": null,
            "justify_content": null,
            "_view_module": "@jupyter-widgets/base",
            "overflow": null,
            "_model_module_version": "1.2.0",
            "_view_count": null,
            "flex_flow": null,
            "width": null,
            "min_width": null,
            "border": null,
            "align_items": null,
            "bottom": null,
            "_model_module": "@jupyter-widgets/base",
            "top": null,
            "grid_column": null,
            "overflow_y": null,
            "overflow_x": null,
            "grid_auto_flow": null,
            "grid_area": null,
            "grid_template_columns": null,
            "flex": null,
            "_model_name": "LayoutModel",
            "justify_items": null,
            "grid_row": null,
            "max_height": null,
            "align_content": null,
            "visibility": null,
            "align_self": null,
            "height": null,
            "min_height": null,
            "padding": null,
            "grid_auto_rows": null,
            "grid_gap": null,
            "max_width": null,
            "order": null,
            "_view_module_version": "1.2.0",
            "grid_template_areas": null,
            "object_position": null,
            "object_fit": null,
            "grid_auto_columns": null,
            "margin": null,
            "display": null,
            "left": null
          }
        },
        "ea5952f7f30c45f2ae9beec9b71db353": {
          "model_module": "@jupyter-widgets/controls",
          "model_name": "FloatSliderModel",
          "state": {
            "_view_name": "FloatSliderView",
            "style": "IPY_MODEL_3b467bd3e4ed48e5a502eb7009c63849",
            "_dom_classes": [],
            "description": "Fo",
            "step": 0.1,
            "_model_name": "FloatSliderModel",
            "orientation": "horizontal",
            "max": 1,
            "_view_module": "@jupyter-widgets/controls",
            "_model_module_version": "1.5.0",
            "value": 0,
            "_view_count": null,
            "disabled": false,
            "_view_module_version": "1.5.0",
            "min": 0,
            "continuous_update": true,
            "readout_format": ".2f",
            "description_tooltip": null,
            "readout": true,
            "_model_module": "@jupyter-widgets/controls",
            "layout": "IPY_MODEL_f2c1631ee0c84c67933714cd581c761d"
          }
        },
        "6d85e8c8b9384ce0b238b86fbd0f2c3e": {
          "model_module": "@jupyter-widgets/controls",
          "model_name": "ButtonModel",
          "state": {
            "_view_name": "ButtonView",
            "style": "IPY_MODEL_4fb485f8ef83431996d89833e5b436d6",
            "_dom_classes": [],
            "description": "Run Interact",
            "_model_name": "ButtonModel",
            "button_style": "",
            "_view_module": "@jupyter-widgets/controls",
            "_model_module_version": "1.5.0",
            "tooltip": "",
            "_view_count": null,
            "disabled": false,
            "_view_module_version": "1.5.0",
            "layout": "IPY_MODEL_b4cdc7226fd048e58264bcada9a5eb40",
            "_model_module": "@jupyter-widgets/controls",
            "icon": ""
          }
        },
        "7b23e202b3ea4100b12f2a0805b3e92e": {
          "model_module": "@jupyter-widgets/output",
          "model_name": "OutputModel",
          "state": {
            "_view_name": "OutputView",
            "msg_id": "",
            "_dom_classes": [],
            "_model_name": "OutputModel",
            "outputs": [
              {
                "output_type": "display_data",
                "metadata": {
                  "tags": [],
                  "needs_background": "light"
                },
                "image/png": "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\n",
                "text/plain": "<Figure size 576x360 with 1 Axes>"
              }
            ],
            "_view_module": "@jupyter-widgets/output",
            "_model_module_version": "1.0.0",
            "_view_count": null,
            "_view_module_version": "1.0.0",
            "layout": "IPY_MODEL_3c51fd965c8b4e858377cd6e6d660a72",
            "_model_module": "@jupyter-widgets/output"
          }
        },
        "3b467bd3e4ed48e5a502eb7009c63849": {
          "model_module": "@jupyter-widgets/controls",
          "model_name": "SliderStyleModel",
          "state": {
            "_view_name": "StyleView",
            "handle_color": null,
            "_model_name": "SliderStyleModel",
            "description_width": "",
            "_view_module": "@jupyter-widgets/base",
            "_model_module_version": "1.5.0",
            "_view_count": null,
            "_view_module_version": "1.2.0",
            "_model_module": "@jupyter-widgets/controls"
          }
        },
        "f2c1631ee0c84c67933714cd581c761d": {
          "model_module": "@jupyter-widgets/base",
          "model_name": "LayoutModel",
          "state": {
            "_view_name": "LayoutView",
            "grid_template_rows": null,
            "right": null,
            "justify_content": null,
            "_view_module": "@jupyter-widgets/base",
            "overflow": null,
            "_model_module_version": "1.2.0",
            "_view_count": null,
            "flex_flow": null,
            "width": null,
            "min_width": null,
            "border": null,
            "align_items": null,
            "bottom": null,
            "_model_module": "@jupyter-widgets/base",
            "top": null,
            "grid_column": null,
            "overflow_y": null,
            "overflow_x": null,
            "grid_auto_flow": null,
            "grid_area": null,
            "grid_template_columns": null,
            "flex": null,
            "_model_name": "LayoutModel",
            "justify_items": null,
            "grid_row": null,
            "max_height": null,
            "align_content": null,
            "visibility": null,
            "align_self": null,
            "height": null,
            "min_height": null,
            "padding": null,
            "grid_auto_rows": null,
            "grid_gap": null,
            "max_width": null,
            "order": null,
            "_view_module_version": "1.2.0",
            "grid_template_areas": null,
            "object_position": null,
            "object_fit": null,
            "grid_auto_columns": null,
            "margin": null,
            "display": null,
            "left": null
          }
        },
        "4fb485f8ef83431996d89833e5b436d6": {
          "model_module": "@jupyter-widgets/controls",
          "model_name": "ButtonStyleModel",
          "state": {
            "_view_name": "StyleView",
            "_model_name": "ButtonStyleModel",
            "_view_module": "@jupyter-widgets/base",
            "_model_module_version": "1.5.0",
            "_view_count": null,
            "button_color": null,
            "font_weight": "",
            "_view_module_version": "1.2.0",
            "_model_module": "@jupyter-widgets/controls"
          }
        },
        "b4cdc7226fd048e58264bcada9a5eb40": {
          "model_module": "@jupyter-widgets/base",
          "model_name": "LayoutModel",
          "state": {
            "_view_name": "LayoutView",
            "grid_template_rows": null,
            "right": null,
            "justify_content": null,
            "_view_module": "@jupyter-widgets/base",
            "overflow": null,
            "_model_module_version": "1.2.0",
            "_view_count": null,
            "flex_flow": null,
            "width": null,
            "min_width": null,
            "border": null,
            "align_items": null,
            "bottom": null,
            "_model_module": "@jupyter-widgets/base",
            "top": null,
            "grid_column": null,
            "overflow_y": null,
            "overflow_x": null,
            "grid_auto_flow": null,
            "grid_area": null,
            "grid_template_columns": null,
            "flex": null,
            "_model_name": "LayoutModel",
            "justify_items": null,
            "grid_row": null,
            "max_height": null,
            "align_content": null,
            "visibility": null,
            "align_self": null,
            "height": null,
            "min_height": null,
            "padding": null,
            "grid_auto_rows": null,
            "grid_gap": null,
            "max_width": null,
            "order": null,
            "_view_module_version": "1.2.0",
            "grid_template_areas": null,
            "object_position": null,
            "object_fit": null,
            "grid_auto_columns": null,
            "margin": null,
            "display": null,
            "left": null
          }
        },
        "3c51fd965c8b4e858377cd6e6d660a72": {
          "model_module": "@jupyter-widgets/base",
          "model_name": "LayoutModel",
          "state": {
            "_view_name": "LayoutView",
            "grid_template_rows": null,
            "right": null,
            "justify_content": null,
            "_view_module": "@jupyter-widgets/base",
            "overflow": null,
            "_model_module_version": "1.2.0",
            "_view_count": null,
            "flex_flow": null,
            "width": null,
            "min_width": null,
            "border": null,
            "align_items": null,
            "bottom": null,
            "_model_module": "@jupyter-widgets/base",
            "top": null,
            "grid_column": null,
            "overflow_y": null,
            "overflow_x": null,
            "grid_auto_flow": null,
            "grid_area": null,
            "grid_template_columns": null,
            "flex": null,
            "_model_name": "LayoutModel",
            "justify_items": null,
            "grid_row": null,
            "max_height": null,
            "align_content": null,
            "visibility": null,
            "align_self": null,
            "height": null,
            "min_height": null,
            "padding": null,
            "grid_auto_rows": null,
            "grid_gap": null,
            "max_width": null,
            "order": null,
            "_view_module_version": "1.2.0",
            "grid_template_areas": null,
            "object_position": null,
            "object_fit": null,
            "grid_auto_columns": null,
            "margin": null,
            "display": null,
            "left": null
          }
        }
      }
    }
  },
  "cells": [
    {
      "cell_type": "markdown",
      "metadata": {
        "id": "view-in-github",
        "colab_type": "text"
      },
      "source": [
        "<a href=\"https://colab.research.google.com/github/eddes/buildingphysics/blob/feature%2Fpipenv_and_notebooks/notebooks/chapter_1/Euler_and_CN_schemes.ipynb\" target=\"_parent\"><img src=\"https://colab.research.google.com/assets/colab-badge.svg\" alt=\"Open In Colab\"/></a>"
      ]
    },
    {
      "cell_type": "markdown",
      "metadata": {
        "id": "WU1953pjtoy7",
        "colab_type": "text"
      },
      "source": [
        "# **Stability for Euler’s explicit and  Crank-Nicolson’ schemes**\n",
        "## Building Physics - Applications in python - Chapter 1\n",
        "\n",
        "The notebook illustrates an example of numerical integration of partial differential equation. The objective here is to integrate the equation \n",
        "$ \\frac{\\partial T}{\\partial t}\n",
        "   = \\alpha \\frac{\\partial^2 T}{\\partial x^2} $ in the case of a homogeneous media and test the conditions ensuring its stability.\n",
        "\n",
        "\n"
      ]
    },
    {
      "cell_type": "code",
      "metadata": {
        "id": "hyIs2ktQuPk1",
        "colab_type": "code",
        "colab": {}
      },
      "source": [
        "import numpy as np\n",
        "import matplotlib.pyplot as plt\n",
        "from ipywidgets import  interact_manual\n",
        "import ipywidgets as widgets\n",
        "from pylab import rcParams\n",
        "rcParams['figure.figsize'] = 8, 5"
      ],
      "execution_count": 0,
      "outputs": []
    },
    {
      "cell_type": "markdown",
      "metadata": {
        "id": "K6C2DEReviTU",
        "colab_type": "text"
      },
      "source": [
        "### Euler explicit scheme - vector\n",
        "**Book reference page 11** \n",
        "\n",
        "We define `n` as the amount of cells we split the media into, `T` an array of size `n`, representing the temperature for each cell at time `t`, `T_plus` an array of size `n`, representing the temperature for each cell at time `t + dt`.\n",
        "\n",
        "`L` is the length of the media (supposed of dimension 1 here). `dt` is the elementary time step of the simulation (s), for a total simulation time of `sim_time` (s)\n",
        "\n",
        "We introduce Fourier’s non-dimensional number Fo = $ \\alpha \\frac{ \\Delta T}{\\Delta x^2} $\n",
        " the ratio of conduction heat transfer to thermal storage in the material slice.\n",
        "\n",
        "By default in this example, the media starts with a homogenous temperature of 0 degC. At the start of the simulation, the left border of the media is set to 10 degC as a boundary condition.\n"
      ]
    },
    {
      "cell_type": "code",
      "metadata": {
        "id": "lKMSOvOlvfyb",
        "colab_type": "code",
        "colab": {}
      },
      "source": [
        "\n",
        "n=100\n",
        "T_plus=np.zeros(n)\n",
        "T=np.zeros(n)\n",
        "\n",
        "t=0\n",
        "sim_time=600\n",
        "dt=1\n",
        "\n",
        "L=0.1 # m\n",
        "alpha=1e-7 #m2/s\n",
        "dx=L/n # \n"
      ],
      "execution_count": 0,
      "outputs": []
    },
    {
      "cell_type": "markdown",
      "metadata": {
        "id": "dlx0N5iO0kcl",
        "colab_type": "text"
      },
      "source": [
        "Let's run the simulation a first time. In this case, `Fo = 0.1`, respecting the empirical stability criteria of Fo < 0.5.\n",
        "\n"
      ]
    },
    {
      "cell_type": "code",
      "metadata": {
        "id": "p9LczwS9vf9H",
        "colab_type": "code",
        "colab": {
          "base_uri": "https://localhost:8080/",
          "height": 369
        },
        "outputId": "ca10bd66-f076-4bea-a118-dd87e7bd7c44"
      },
      "source": [
        "\n",
        "Fo=alpha*dt/dx**2\n",
        "print(\"Fo = {}\".format(Fo))\n",
        "if Fo>0.5:\n",
        "\tprint(\"stability issue\")\n",
        "# time \n",
        "while t < sim_time:\n",
        "\t# boundary conditions\n",
        "\tT[0]=0\n",
        "\tT[n-1]=10\n",
        "\t# inside the domain \n",
        "\tfor i in range(1,n-1):\n",
        "\t\tT_plus[i]=T[i]*(1-2*Fo)+Fo*(T[i+1]+T[i-1])\n",
        "\tT=T_plus # replace \n",
        "\tt+=dt\n",
        "\t\n",
        "x_pos=np.arange(0,L,dx)\n",
        "plt.xlabel(\"x position [m]\")\n",
        "plt.ylabel(\"Temperature [°C]\")\n",
        "plt.plot(x_pos, T_plus, 'o-', alpha=0.65)\n"
      ],
      "execution_count": 32,
      "outputs": [
        {
          "output_type": "stream",
          "text": [
            "Fo = 0.1\n"
          ],
          "name": "stdout"
        },
        {
          "output_type": "execute_result",
          "data": {
            "text/plain": [
              "[<matplotlib.lines.Line2D at 0x7f7d3996de80>]"
            ]
          },
          "metadata": {
            "tags": []
          },
          "execution_count": 32
        },
        {
          "output_type": "display_data",
          "data": {
            "image/png": "[encoded data removed]",
            "text/plain": [
              "<Figure size 576x360 with 1 Axes>"
            ]
          },
          "metadata": {
            "tags": [],
            "needs_background": "light"
          }
        }
      ]
    },
    {
      "cell_type": "markdown",
      "metadata": {
        "id": "BphnE_YB1Odv",
        "colab_type": "text"
      },
      "source": [
        "Let's now plot the same simulation with a different value of Fo. The interactive plot allows you to pick a value then run the simulation."
      ]
    },
    {
      "cell_type": "code",
      "metadata": {
        "id": "s_rIEfbBvgAI",
        "colab_type": "code",
        "colab": {
          "base_uri": "https://localhost:8080/",
          "height": 415,
          "referenced_widgets": [
            "a852f91ad78c42c7903fe34749adbca1",
            "de1c371fb86b48d78b9fade0a1879a95",
            "19ba4eac3e974c369938a365ecf8f3b2",
            "8123316436ac48cea0706578f05969c6",
            "9d85c42f5a994b4fbb57d11af03295c2",
            "9af09d94e3454b4d90518a12677ddd28",
            "7cdcf31d704241b88cd1fc287a3a4af7",
            "64d0d5c5d3844340986bce71d7945bb8",
            "f9790d93f5aa49428880ca88d8796504",
            "2ad0e35d7c5d481196ba1c184252f333"
          ]
        },
        "outputId": "6f5c6054-ca47-4bbf-f70a-2f2df561f017"
      },
      "source": [
        "# Defining the simulation as a method with Fo as an argument.\n",
        "\n",
        "def plot_temperature_evolution(Fo):\n",
        "  n=100\n",
        "  T_plus=np.zeros(n)\n",
        "  T=np.zeros(n)\n",
        "  t=0\n",
        "  sim_time=600\n",
        "  dt=1\n",
        "  while t < sim_time:\n",
        "    T[0]=0\n",
        "    T[n-1]=10\n",
        "    for i in range(1,n-1):\n",
        "      T_plus[i]=T[i]*(1-2*Fo)+Fo*(T[i+1]+T[i-1])\n",
        "    T=T_plus \n",
        "    t+=dt\n",
        "\t\n",
        "  x_pos=np.arange(0,L,dx)\n",
        "  plt.xlabel(\"x position [m]\")\n",
        "  plt.ylabel(\"Temperature [°C]\")\n",
        "  plt.plot(x_pos, T_plus, 'o-', alpha=0.65)\n",
        "\n",
        "# Creating an interactive graph based on IPython Widgets\n",
        "interact_manual(plot_temperature_evolution, Fo = widgets.FloatSlider(value=0.2,    min=0,\n",
        "                                               max=1,\n",
        "                                               step=0.1))"
      ],
      "execution_count": 33,
      "outputs": [
        {
          "output_type": "display_data",
          "data": {
            "application/vnd.jupyter.widget-view+json": {
              "model_id": "a852f91ad78c42c7903fe34749adbca1",
              "version_minor": 0,
              "version_major": 2
            },
            "text/plain": [
              "interactive(children=(FloatSlider(value=0.2, description='Fo', max=1.0), Button(description='Run Interact', st…"
            ]
          },
          "metadata": {
            "tags": []
          }
        },
        {
          "output_type": "execute_result",
          "data": {
            "text/plain": [
              "<function __main__.plot_temperature_evolution>"
            ]
          },
          "metadata": {
            "tags": []
          },
          "execution_count": 33
        }
      ]
    },
    {
      "cell_type": "markdown",
      "metadata": {
        "id": "uiAi_8KH4aQ7",
        "colab_type": "text"
      },
      "source": [
        "### Euler explicit scheme - matrix\n",
        "**Book reference page 12** \n",
        "\n",
        "Same exemple, yet described with a matrix implementation. The instability can be clearly seen for `Fo > 0.5`."
      ]
    },
    {
      "cell_type": "code",
      "metadata": {
        "id": "_mUvz_mY4u0N",
        "colab_type": "code",
        "colab": {
          "base_uri": "https://localhost:8080/",
          "height": 415,
          "referenced_widgets": [
            "1c8336c6ba0b47dc88024ad628cbb421",
            "cc9a9921f8a645078910c76b734d657a",
            "ea5952f7f30c45f2ae9beec9b71db353",
            "6d85e8c8b9384ce0b238b86fbd0f2c3e",
            "7b23e202b3ea4100b12f2a0805b3e92e",
            "3b467bd3e4ed48e5a502eb7009c63849",
            "f2c1631ee0c84c67933714cd581c761d",
            "4fb485f8ef83431996d89833e5b436d6",
            "b4cdc7226fd048e58264bcada9a5eb40",
            "3c51fd965c8b4e858377cd6e6d660a72"
          ]
        },
        "outputId": "748b8c48-c3ac-4a64-b74a-30798a128058"
      },
      "source": [
        "# Defining the simulation as a method with Fo as an argument.\n",
        "\n",
        "def plot_temperature_evolution_matrix(Fo):\n",
        "  n=50+2 # number of nodes\n",
        "  K=np.eye(n,n,k=-1)*1 + np.eye(n,n)*-2 + np.eye(n,n,k=1)*1\n",
        "\n",
        "  K[0,0]=0\n",
        "  K[0,1]=0\n",
        "  K[-1,-1]=0\n",
        "  K[-1,-2]=0\n",
        "  T_plus=np.zeros(n)\n",
        "  T=np.zeros(n)\n",
        "\n",
        "  plt.plot()\n",
        "  \n",
        "  t=0\n",
        "  sim_time=600\n",
        "  dt=1\n",
        "\n",
        "  L=0.1 # m\n",
        "  dx = L/n\n",
        "  T[0]=0\n",
        "  T[n-1]=10\n",
        " \n",
        "  # time \n",
        "  while t < sim_time:\n",
        "    # matrix multiplicatio K*T\n",
        "    T_plus=Fo*np.dot(K,T) +T\n",
        "    T=T_plus # replace \n",
        "    t+=dt\n",
        "\n",
        "\n",
        "  x_pos=np.arange(0,L,dx)\n",
        "  plt.xlabel(\"x position [m]\")\n",
        "  plt.ylabel(\"Temperature [°C]\")\n",
        "  plt.plot(x_pos, T_plus, 'o-', alpha=0.65)\n",
        "\n",
        "\n",
        "# Creating an interactive graph based on IPython Widgets\n",
        "interact_manual(plot_temperature_evolution_matrix, Fo = widgets.FloatSlider(value=0.2,    min=0,\n",
        "                                                max=1,\n",
        "                                                step=0.1))"
      ],
      "execution_count": 49,
      "outputs": [
        {
          "output_type": "display_data",
          "data": {
            "application/vnd.jupyter.widget-view+json": {
              "model_id": "1c8336c6ba0b47dc88024ad628cbb421",
              "version_minor": 0,
              "version_major": 2
            },
            "text/plain": [
              "interactive(children=(FloatSlider(value=0.2, description='Fo', max=1.0), Button(description='Run Interact', st…"
            ]
          },
          "metadata": {
            "tags": []
          }
        },
        {
          "output_type": "execute_result",
          "data": {
            "text/plain": [
              "<function __main__.plot_temperature_evolution_matrix>"
            ]
          },
          "metadata": {
            "tags": []
          },
          "execution_count": 49
        }
      ]
    },
    {
      "cell_type": "markdown",
      "metadata": {
        "id": "5URTJ4Po2_lM",
        "colab_type": "text"
      },
      "source": [
        "### Crank-Nicolson scheme \n",
        "**Book reference page 16** \n",
        "\n",
        "Euler’s explicit scheme has the advantage of simplicity and straightforward implementation, however its stability conditions are often detrimental to execution time. A means of increasing stability is to change the explicit numerical scheme for an implicit scheme."
      ]
    },
    {
      "cell_type": "code",
      "metadata": {
        "id": "lCierOQ23Q5O",
        "colab_type": "code",
        "colab": {}
      },
      "source": [
        ""
      ],
      "execution_count": 0,
      "outputs": []
    }
  ]
}