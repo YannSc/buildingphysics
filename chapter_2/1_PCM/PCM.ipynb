{
 "cells": [
  {
   "cell_type": "markdown",
   "metadata": {},
   "source": [
    "# Phase change materials\n",
    "\n"
   ]
  },
  {
   "cell_type": "code",
   "execution_count": 13,
   "metadata": {},
   "outputs": [],
   "source": [
    "import matplotlib.pyplot as plt\n",
    "import numpy as np\n",
    "import sys\n",
    "import os\n",
    "\n",
    "module_path = os.path.abspath(os.path.join(os.pardir, os.pardir))\n",
    "if module_path not in sys.path:\n",
    "    sys.path.append(module_path)\n",
    "from tools.plot_tools import colors\n",
    "from code_PCM import fc_fraction, fc_distrib, fc_Cp_apparent"
   ]
  },
  {
   "cell_type": "markdown",
   "metadata": {},
   "source": [
    "## Constants definition\n"
   ]
  },
  {
   "cell_type": "code",
   "execution_count": 14,
   "metadata": {},
   "outputs": [],
   "source": [
    "# Cps in J/kg/K\n",
    "Cp_s=1800\n",
    "Cp_l=2400\n",
    "Lf=188000 # Lf\n",
    "dTf=0.01\n",
    "Tmin=20\n",
    "Tmax=30\n",
    "Tf=27\n",
    "T_init=Tf\n",
    "\n",
    "# material props\n",
    "L=0.1# m\n",
    "k=0.9\n",
    "rho=800\n"
   ]
  },
  {
   "cell_type": "code",
   "execution_count": 17,
   "metadata": {},
   "outputs": [
    {
     "name": "stdout",
     "output_type": "stream",
     "text": [
      "Matrix K \n",
      " [[ 0.  0.  0.  0.  0.  0.  0.  0.  0.  0.  0.  0.]\n",
      " [ 1. -2.  1.  0.  0.  0.  0.  0.  0.  0.  0.  0.]\n",
      " [ 0.  1. -2.  1.  0.  0.  0.  0.  0.  0.  0.  0.]\n",
      " [ 0.  0.  1. -2.  1.  0.  0.  0.  0.  0.  0.  0.]\n",
      " [ 0.  0.  0.  1. -2.  1.  0.  0.  0.  0.  0.  0.]\n",
      " [ 0.  0.  0.  0.  1. -2.  1.  0.  0.  0.  0.  0.]\n",
      " [ 0.  0.  0.  0.  0.  1. -2.  1.  0.  0.  0.  0.]\n",
      " [ 0.  0.  0.  0.  0.  0.  1. -2.  1.  0.  0.  0.]\n",
      " [ 0.  0.  0.  0.  0.  0.  0.  1. -2.  1.  0.  0.]\n",
      " [ 0.  0.  0.  0.  0.  0.  0.  0.  1. -2.  1.  0.]\n",
      " [ 0.  0.  0.  0.  0.  0.  0.  0.  0.  1. -2.  1.]\n",
      " [ 0.  0.  0.  0.  0.  0.  0.  0.  0.  0.  0.  0.]]\n"
     ]
    }
   ],
   "source": [
    "\n",
    "# domain properties and initial conditions\n",
    "n=10+2 # Matrix dimension\n",
    "K=np.eye(n,n,k=-1)*1 + np.eye(n,n)*-2 + np.eye(n,n,k=1)*1\n",
    "K[0,0]=0\n",
    "K[0,1]=0\n",
    "K[-1,-1]=0\n",
    "K[-1,-2]=0\n",
    "\n",
    "dx=L/n #\n",
    "T_plus,Cp_t=np.zeros(n),np.zeros(n)\n",
    "T=np.ones(n)*T_init # initialize at Tmin\n",
    "\n",
    "print(\"Matrix K \\n {}\".format(K))\n",
    "\n",
    "# simulation time and time step\n",
    "t=0\n",
    "heures=0.1\n",
    "sim_time=heures*3600 #s\n",
    "dt=5 # s\n",
    "\n",
    " "
   ]
  },
  {
   "cell_type": "code",
   "execution_count": 21,
   "metadata": {},
   "outputs": [
    {
     "name": "stdout",
     "output_type": "stream",
     "text": [
      "Fo sequence  \n",
      " [7.63512462e-06 7.63512462e-06 7.63512462e-06 7.63512462e-06\n",
      " 7.63512462e-06 7.63512462e-06 7.63512462e-06 7.63512462e-06\n",
      " 7.63512462e-06 7.63512462e-06 7.63512462e-06 7.63512462e-06]\n"
     ]
    }
   ],
   "source": [
    "#intialize the local Fourier number for PCMs\n",
    "Fo=np.zeros(n)\n",
    "for i in range(len(Fo)):\n",
    "    Fo[i]=k*dt/(rho*fc_Cp_apparent(T_init,dTf,Tf,Lf,Cp_s,Cp_l)*dx**2)\n",
    "    # local stability check\n",
    "    if Fo[i]>0.5:\n",
    "        print(\"stability issue... i=\",i)\n",
    "        dt_min=0.5*dx**2*rho*Cp_s/k\n",
    "        print(\"minimum time step =\", round(dt_min,2))\n",
    "        dt=0.9*dt_min\n",
    "        print(\"changing to =\", round(dt,2))\n",
    "print(\"Fo sequence  \\n {}\".format(Fo))\n",
    "\n"
   ]
  },
  {
   "cell_type": "code",
   "execution_count": null,
   "metadata": {},
   "outputs": [],
   "source": [
    "# time\n",
    "while t < sim_time:\n",
    "\t# boundary conditions\n",
    "\tT[0]=Tmin\n",
    "#\tT[n-1]=Tmin+(Tmax-Tmin)*t/sim_time\n",
    "\tT[n-1]=Tmax\n",
    "\t# inside the domain\n",
    "\tT_plus=Fo*np.dot(K,T) +T\n",
    "\t# update the local apparent Cp\n",
    "\tfor i in range(n):\n",
    "\t\tCp_t[i] = fc_Cp_apparent(T_plus[i],dTf,Tf,Lf,Cp_s,Cp_l)\n",
    "\tFo=k*dt/(rho*Cp_t*dx**2)\n",
    "\tif len(np.argwhere(Fo > 0.5))>0 :\n",
    "\t\tindice=np.argwhere(Fo > 0.5)\n",
    "\t\tprint(\"stability issue during simulation... Fo =\", Fo[indice[0]])\n",
    "\t\tprint(\"occurred for... t=\", round(t,1), \" / i=\")\n",
    "\tt+=dt #time increment\n",
    "\tT=T_plus # T turns into T_plus to allow the calculation of the next T_plus\n"
   ]
  },
  {
   "cell_type": "code",
   "execution_count": null,
   "metadata": {},
   "outputs": [],
   "source": [
    "\n",
    "x_pos=np.arange(0,L,dx)\n",
    "plt.plot(x_pos, np.ones(n)*Tf,color=coule[-1],linestyle=\"-\",alpha=0.9,marker='')\n",
    "plt.xlabel(\"x position [m]\")\n",
    "plt.ylabel(\"Temperature [°C]\")\n",
    "plt.plot(x_pos, T_plus, alpha=0.65, linestyle=\"--\",marker='')\n"
   ]
  }
 ],
 "metadata": {
  "kernelspec": {
   "display_name": "Python 3",
   "language": "python",
   "name": "python3"
  },
  "language_info": {
   "codemirror_mode": {
    "name": "ipython",
    "version": 3
   },
   "file_extension": ".py",
   "mimetype": "text/x-python",
   "name": "python",
   "nbconvert_exporter": "python",
   "pygments_lexer": "ipython3",
   "version": "3.6.9"
  }
 },
 "nbformat": 4,
 "nbformat_minor": 1
}
