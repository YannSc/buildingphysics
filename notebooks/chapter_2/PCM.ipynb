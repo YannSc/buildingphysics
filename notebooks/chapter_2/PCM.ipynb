{
 "cells": [
  {
   "cell_type": "markdown",
   "metadata": {},
   "source": [
    "<a href=\"https://colab.research.google.com/github/eddes/buildingphysics/blob/feature%2Fpipenv_and_notebooks/notebooks/chapter_2/PCM.ipynb\" target=\"_parent\"><img src=\"https://colab.research.google.com/assets/colab-badge.svg\" alt=\"Open In Colab\"/></a>"
   ]
  },
  {
   "cell_type": "markdown",
   "metadata": {
    "colab_type": "text",
    "id": "view-in-github"
   },
   "source": [
    "# Phase change materials\n",
    "\n",
    "In this notebook, we expose a numerical implementation for conduction in materials including phase\n",
    "change material (PCM), using the apparent thermal capacity method, with a slight increment in complexity\n",
    "compared to the examples of Chapter 1.\n"
   ]
  },
  {
   "cell_type": "code",
   "execution_count": 33,
   "metadata": {
    "colab": {},
    "colab_type": "code",
    "id": "YmzfR3ILBDrc"
   },
   "outputs": [],
   "source": [
    "import matplotlib.pyplot as plt\n",
    "import numpy as np\n",
    "import sys\n",
    "import os\n",
    "from ipywidgets import interact, interactive, fixed, interact_manual\n",
    "import ipywidgets as widgets\n",
    "import matplotlib.pyplot as plt\n",
    "module_path = os.path.abspath(os.path.join(os.pardir, os.pardir))\n",
    "if module_path not in sys.path:\n",
    "    sys.path.append(module_path)\n",
    "    \n",
    "rouge_A='#C60C2E'\n",
    "vert1_A='#005157'\n",
    "vert2_A='#627D77'\n",
    "vert3_A='#9EB28F'\n",
    "vert4_A='#C5E5A4'\n",
    "medblue='royalblue'\n",
    "gris1_A='#595A5C'\n",
    "\n",
    "colors=[rouge_A, vert1_A, vert2_A, vert3_A, vert4_A, medblue, gris1_A]\n"
   ]
  },
  {
   "cell_type": "markdown",
   "metadata": {
    "colab_type": "text",
    "id": "hnTqgzKZBDrk"
   },
   "source": [
    "## Helper functions\n",
    "We define some method to model the phase material change.\n",
    "- `fc_fraction` returns the fraction of liquid `f` given current temperature `T`, fusion temperature `Tf` and the fusion interval `dTf`.\n",
    "- `fc_distrib` returns the distribution function for the apparent capacity \n",
    "- `fc_Cp_apparent` return the apparent thermal capacity of the material"
   ]
  },
  {
   "cell_type": "code",
   "execution_count": 39,
   "metadata": {
    "colab": {},
    "colab_type": "code",
    "id": "jvfd4fApBDro"
   },
   "outputs": [],
   "source": [
    "\n",
    "def fc_fraction(T,dTf,Tf):\n",
    "    if   T<(Tf-2*dTf): f=0 # all solid\n",
    "    elif T>(Tf+2*dTf): f=1 # all liquid\n",
    "    else:f=(T-Tf+2*dTf)/(dTf*4)\n",
    "    return f\n",
    "\n",
    "def fc_distrib(T,dTf,Tf):\n",
    "    T=T+273.15\n",
    "    Tf=Tf+273.15\n",
    "    return np.exp(-((T-Tf)/(dTf))**2)/np.sqrt(np.pi*dTf**2)\n",
    "\n",
    "def fc_Cp_apparent(T,dTf,Tf,Lf,Cp_s,Cp_l):\n",
    "    fraction=fc_fraction(T,dTf,Tf)\n",
    "    distrib=fc_distrib(T,dTf,Tf)\n",
    "    return Lf*distrib + Cp_s + fraction*(Cp_l-Cp_s)\n"
   ]
  },
  {
   "cell_type": "markdown",
   "metadata": {},
   "source": [
    "Defining here the K matrix as parti of the explicit Euler scheme (cf chapter 1)."
   ]
  },
  {
   "cell_type": "code",
   "execution_count": 42,
   "metadata": {
    "colab": {},
    "colab_type": "code",
    "id": "bHqn0CRcBDrt",
    "outputId": "42ed0df0-28be-478d-f87d-bc158476b9c7"
   },
   "outputs": [],
   "source": [
    "def init_K(n):\n",
    "    K=np.eye(n,n,k=-1)*1 + np.eye(n,n)*-2 + np.eye(n,n,k=1)*1\n",
    "    K[0,0]=0\n",
    "    K[0,1]=0\n",
    "    K[-1,-1]=0\n",
    "    K[-1,-2]=0\n",
    "    return K"
   ]
  },
  {
   "cell_type": "markdown",
   "metadata": {
    "colab_type": "text",
    "id": "YOqxOruJBDr0"
   },
   "source": [
    "### Simulation and plot definition\n",
    "A method initializing Fo for each cell of the simulation is definied.\n"
   ]
  },
  {
   "cell_type": "code",
   "execution_count": 43,
   "metadata": {
    "colab": {},
    "colab_type": "code",
    "id": "RJdRfiRKBDr1"
   },
   "outputs": [],
   "source": [
    "#intialize the local Fourier number for PCMs\n",
    "def generate_Fo(n,dt,T_init,dTf,Tf):\n",
    "    Fo=np.zeros(n)\n",
    "    for i in range(len(Fo)):\n",
    "        Fo[i]=k*dt/(rho*fc_Cp_apparent(T_init,dTf,Tf,Lf,Cp_s,Cp_l)*dx**2)\n",
    "        # local stability check\n",
    "        if Fo[i]>0.5:\n",
    "            print(\"Fo - stability issue... i=\",i)\n",
    "            dt_min=0.5*dx**2*rho*Cp_s/k\n",
    "            print(\"minimum time step =\", round(dt_min,2))\n",
    "            dt=0.9*dt_min\n",
    "            print(\"changing to =\", round(dt,2))\n",
    "    return Fo"
   ]
  },
  {
   "cell_type": "code",
   "execution_count": 44,
   "metadata": {
    "colab": {},
    "colab_type": "code",
    "id": "LKT2ADTcBDr7"
   },
   "outputs": [],
   "source": [
    "def compute_and_plot_PCM(Tf, dTf):\n",
    "    \n",
    "    # Cps in J/kg/K\n",
    "    Cp_s=1800  # the sensible heat of the solid\n",
    "    Cp_l=2400  # the sensible heat of the liquid fraction \n",
    "    Lf=188000 # Lf latent heat of fusion\n",
    "\n",
    "\n",
    "    # Material properties\n",
    "    L=0.1# m\n",
    "    k=0.9 # material thermal resistivity (1/lambda)\n",
    "    rho=800 # density\n",
    "    \n",
    "    Tmin=20\n",
    "    Tmax=30\n",
    "    T_init=Tmin\n",
    "    \n",
    "    n = 12\n",
    "    K = init_K(n)\n",
    "    dx=L/n #\n",
    "\n",
    "    dt = 5\n",
    "    T_plus,Cp_t=np.zeros(n),np.zeros(n)\n",
    "    T=np.ones(n)*T_init # initialize at Tmin\n",
    "    \n",
    "    # simulation time and time step\n",
    "    t=0\n",
    "    hours=0.1\n",
    "    sim_time=hours*3600 #s\n",
    "    \n",
    "    Fo = generate_Fo(n,dt,T_init,dTf,Tf)\n",
    "    \n",
    "    while t < sim_time:\n",
    "        # boundary conditions\n",
    "        T[0]=Tmin\n",
    "        T[n-1]=Tmax\n",
    "        \n",
    "        # update T \n",
    "        T_plus=Fo*np.dot(K,T) + T\n",
    "        \n",
    "        # update the local apparent Cp\n",
    "        for i in range(n):\n",
    "            Cp_t[i] = fc_Cp_apparent(T_plus[i],dTf,Tf,Lf,Cp_s,Cp_l)\n",
    "        \n",
    "        # Fo is updated and stability is tested\n",
    "        Fo=k*dt/(rho*Cp_t*dx**2)\n",
    "        print(Fo)\n",
    "        if len(np.argwhere(Fo > 0.5))>0 :\n",
    "            indice=np.argwhere(Fo > 0.5)\n",
    "            print(\"stability issue during simulation... Fo =\", Fo[indice[0]])\n",
    "            print(\"occurred for... t=\", round(t,1), \" / i=\")\n",
    "        t+=dt #time increment\n",
    "        T=T_plus # T turns into T_plus to allow the calculation of the next T_plus\n",
    "    \n",
    "    # after the simulation is terminated, T is plotted with Tf as a reference\n",
    "    x_pos=np.arange(0,L,dx)\n",
    "    plt.plot(x_pos, np.ones(n)*Tf,color=colors[-1],linestyle=\"-\",alpha=0.9,marker='')\n",
    "    plt.xlabel(\"x position [m]\")\n",
    "    plt.ylabel(\"Temperature [°C]\")\n",
    "    plt.plot(x_pos, T_plus, alpha=0.65, linestyle=\"--\",marker='')\n",
    "\n"
   ]
  },
  {
   "cell_type": "markdown",
   "metadata": {
    "colab_type": "text",
    "id": "M9GulfVYBDsA"
   },
   "source": [
    "### Interactive plot\n",
    "\n",
    "Tf and dTf can be picked in this plot. "
   ]
  },
  {
   "cell_type": "code",
   "execution_count": 45,
   "metadata": {
    "colab": {
     "referenced_widgets": [
      "910c653c99b64fc68c5f74985cc1aa8e"
     ]
    },
    "colab_type": "code",
    "id": "WS8S9cenBDsB",
    "outputId": "203dd092-0cb8-450a-cd4f-97fd77a6f10f"
   },
   "outputs": [
    {
     "data": {
      "application/vnd.jupyter.widget-view+json": {
       "model_id": "1578eeba064344ae81a30e497847dddd",
       "version_major": 2,
       "version_minor": 0
      },
      "text/plain": [
       "interactive(children=(FloatSlider(value=27.0, description='Tf', max=30.0, min=20.0), FloatSlider(value=0.01, d…"
      ]
     },
     "metadata": {},
     "output_type": "display_data"
    },
    {
     "data": {
      "text/plain": [
       "<function __main__.compute_and_plot_PCM(Tf, dTf)>"
      ]
     },
     "execution_count": 45,
     "metadata": {},
     "output_type": "execute_result"
    }
   ],
   "source": [
    "%matplotlib inline\n",
    "interact_manual(compute_and_plot_PCM, Tf = widgets.FloatSlider(value=27,    min=20,\n",
    "                                               max=30,\n",
    "                                               step=0.1),\n",
    "                dTf = widgets.FloatSlider(value=0.01,    min=0.001,\n",
    "                                               max=0.1,\n",
    "                                               step=0.001)\n",
    "\n",
    "               )\n"
   ]
  },
  {
   "cell_type": "code",
   "execution_count": null,
   "metadata": {
    "colab": {},
    "colab_type": "code",
    "id": "CgzlczpRBDsG"
   },
   "outputs": [],
   "source": []
  },
  {
   "cell_type": "code",
   "execution_count": 0,
   "metadata": {
    "colab": {},
    "colab_type": "code",
    "id": "0cl1W53dBDsK"
   },
   "outputs": [],
   "source": []
  }
 ],
 "metadata": {
  "colab": {
   "include_colab_link": true,
   "name": "PCM.ipynb",
   "provenance": []
  },
  "kernelspec": {
   "display_name": "Python 3",
   "language": "python",
   "name": "python3"
  },
  "language_info": {
   "codemirror_mode": {
    "name": "ipython",
    "version": 3
   },
   "file_extension": ".py",
   "mimetype": "text/x-python",
   "name": "python",
   "nbconvert_exporter": "python",
   "pygments_lexer": "ipython3",
   "version": "3.6.9"
  }
 },
 "nbformat": 4,
 "nbformat_minor": 1
}
