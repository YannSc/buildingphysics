{
  "nbformat": 4,
  "nbformat_minor": 0,
  "metadata": {
    "kernelspec": {
      "display_name": "Python 3",
      "language": "python",
      "name": "python3"
    },
    "language_info": {
      "codemirror_mode": {
        "name": "ipython",
        "version": 3
      },
      "file_extension": ".py",
      "mimetype": "text/x-python",
      "name": "python",
      "nbconvert_exporter": "python",
      "pygments_lexer": "ipython3",
      "version": "3.6.9"
    },
    "colab": {
      "name": "PCM.ipynb",
      "provenance": [],
      "include_colab_link": true
    }
  },
  "cells": [
    {
      "cell_type": "markdown",
      "metadata": {
        "id": "view-in-github",
        "colab_type": "text"
      },
      "source": [
        "<a href=\"https://colab.research.google.com/github/eddes/buildingphysics/blob/feature%2Fpipenv_and_notebooks/notebooks/chapter_2/PCM.ipynb\" target=\"_parent\"><img src=\"https://colab.research.google.com/assets/colab-badge.svg\" alt=\"Open In Colab\"/></a>"
      ]
    },
    {
      "cell_type": "markdown",
      "metadata": {
        "id": "cfjlxDmbBDra",
        "colab_type": "text"
      },
      "source": [
        "# Phase change materials\n",
        "\n",
        "In this notebook, we expose a numerical implementation for conduction in materials including phase\n",
        "change material (PCM), using the apparent thermal capacity method, with a slight increment in complexity\n",
        "compared to the examples of Chapter 1.\n"
      ]
    },
    {
      "cell_type": "code",
      "metadata": {
        "id": "YmzfR3ILBDrc",
        "colab_type": "code",
        "colab": {}
      },
      "source": [
        "import matplotlib.pyplot as plt\n",
        "import numpy as np\n",
        "import sys\n",
        "import os\n",
        "from ipywidgets import interact, interactive, fixed, interact_manual\n",
        "import ipywidgets as widgets\n",
        "import matplotlib.pyplot as plt\n",
        "module_path = os.path.abspath(os.path.join(os.pardir, os.pardir))\n",
        "if module_path not in sys.path:\n",
        "    sys.path.append(module_path)\n",
        "from tools.plot_tools import colors\n",
        "from code_PCM import fc_fraction, fc_distrib, fc_Cp_apparent"
      ],
      "execution_count": 0,
      "outputs": []
    },
    {
      "cell_type": "markdown",
      "metadata": {
        "id": "hnTqgzKZBDrk",
        "colab_type": "text"
      },
      "source": [
        "## Definition of constants\n"
      ]
    },
    {
      "cell_type": "code",
      "metadata": {
        "id": "jvfd4fApBDro",
        "colab_type": "code",
        "colab": {}
      },
      "source": [
        "# Cps in J/kg/K\n",
        "Cp_s=1800  # the sensible heat of the solid\n",
        "Cp_l=2400  # the sensible heat of the liquid fraction \n",
        "Lf=188000 # Lf latent heat of fusion\n",
        "dTf=0.01 # \n",
        "\n",
        "\n",
        "\n",
        "# Material properties\n",
        "L=0.1# m\n",
        "k=0.9 # material thermal resistivity (1/lambda)\n",
        "rho=800 # density\n"
      ],
      "execution_count": 0,
      "outputs": []
    },
    {
      "cell_type": "code",
      "metadata": {
        "id": "bHqn0CRcBDrt",
        "colab_type": "code",
        "colab": {},
        "outputId": "42ed0df0-28be-478d-f87d-bc158476b9c7"
      },
      "source": [
        "# domain properties and initial conditions\n",
        "n=10+2 # Matrix dimension\n",
        "\n",
        "K=np.eye(n,n,k=-1)*1 + np.eye(n,n)*-2 + np.eye(n,n,k=1)*1\n",
        "K[0,0]=0\n",
        "K[0,1]=0\n",
        "K[-1,-1]=0\n",
        "K[-1,-2]=0\n",
        "\n",
        "dx=L/n #\n",
        "print(\"Matrix K \\n {}\".format(K))"
      ],
      "execution_count": 0,
      "outputs": [
        {
          "output_type": "stream",
          "text": [
            "Matrix K \n",
            " [[ 0.  0.  0.  0.  0.  0.  0.  0.  0.  0.  0.  0.]\n",
            " [ 1. -2.  1.  0.  0.  0.  0.  0.  0.  0.  0.  0.]\n",
            " [ 0.  1. -2.  1.  0.  0.  0.  0.  0.  0.  0.  0.]\n",
            " [ 0.  0.  1. -2.  1.  0.  0.  0.  0.  0.  0.  0.]\n",
            " [ 0.  0.  0.  1. -2.  1.  0.  0.  0.  0.  0.  0.]\n",
            " [ 0.  0.  0.  0.  1. -2.  1.  0.  0.  0.  0.  0.]\n",
            " [ 0.  0.  0.  0.  0.  1. -2.  1.  0.  0.  0.  0.]\n",
            " [ 0.  0.  0.  0.  0.  0.  1. -2.  1.  0.  0.  0.]\n",
            " [ 0.  0.  0.  0.  0.  0.  0.  1. -2.  1.  0.  0.]\n",
            " [ 0.  0.  0.  0.  0.  0.  0.  0.  1. -2.  1.  0.]\n",
            " [ 0.  0.  0.  0.  0.  0.  0.  0.  0.  1. -2.  1.]\n",
            " [ 0.  0.  0.  0.  0.  0.  0.  0.  0.  0.  0.  0.]]\n"
          ],
          "name": "stdout"
        }
      ]
    },
    {
      "cell_type": "markdown",
      "metadata": {
        "id": "YOqxOruJBDr0",
        "colab_type": "text"
      },
      "source": [
        "### Simulation and plot definition"
      ]
    },
    {
      "cell_type": "code",
      "metadata": {
        "id": "RJdRfiRKBDr1",
        "colab_type": "code",
        "colab": {}
      },
      "source": [
        "#intialize the local Fourier number for PCMs\n",
        "def generate_Fo(dt=):\n",
        "    Fo=np.zeros(n)\n",
        "    for i in range(len(Fo)):\n",
        "        Fo[i]=k*dt/(rho*fc_Cp_apparent(T_init,dTf,Tf,Lf,Cp_s,Cp_l)*dx**2)\n",
        "        # local stability check\n",
        "        if Fo[i]>0.5:\n",
        "            print(\"stability issue... i=\",i)\n",
        "            dt_min=0.5*dx**2*rho*Cp_s/k\n",
        "            print(\"minimum time step =\", round(dt_min,2))\n",
        "            dt=0.9*dt_min\n",
        "            print(\"changing to =\", round(dt,2))\n",
        "    return dt, Fo"
      ],
      "execution_count": 0,
      "outputs": []
    },
    {
      "cell_type": "code",
      "metadata": {
        "id": "LKT2ADTcBDr7",
        "colab_type": "code",
        "colab": {}
      },
      "source": [
        "def compute_and_plot_PCM(T_init, T_min, T_max, Tf, hours, ):\n",
        "\n",
        "    dt = 5\n",
        "    T_plus,Cp_t=np.zeros(n),np.zeros(n)\n",
        "    T=np.ones(n)*T_init # initialize at Tmin\n",
        "    # simulation time and time step\n",
        "    t=0\n",
        "    sim_time=hours*3600 #s\n",
        "    \n",
        "    Fo = generate_Fo()\n",
        "    while t < sim_time:\n",
        "        # boundary conditions\n",
        "        T[0]=Tmin\n",
        "    #T[n-1]=Tmin+(Tmax-Tmin)*t/sim_time\n",
        "        T[n-1]=Tmax\n",
        "        # inside the domain\n",
        "        T_plus=Fo*np.dot(K,T) + T\n",
        "        # update the local apparent Cp\n",
        "        for i in range(n):\n",
        "            Cp_t[i] = fc_Cp_apparent(T_plus[i],dTf,Tf,Lf,Cp_s,Cp_l)\n",
        "        Fo=k*dt/(rho*Cp_t*dx**2)\n",
        "        if len(np.argwhere(Fo > 0.5))>0 :\n",
        "            indice=np.argwhere(Fo > 0.5)\n",
        "            print(\"stability issue during simulation... Fo =\", Fo[indice[0]])\n",
        "            print(\"occurred for... t=\", round(t,1), \" / i=\")\n",
        "        t+=dt #time increment\n",
        "        T=T_plus # T turns into T_plus to allow the calculation of the next T_plus\n",
        "    \n",
        "    x_pos=np.arange(0,L,dx)\n",
        "    plt.plot(x_pos, np.ones(n)*Tf,color=colors[-1],linestyle=\"-\",alpha=0.9,marker='')\n",
        "    plt.xlabel(\"x position [m]\")\n",
        "    plt.ylabel(\"Temperature [°C]\")\n",
        "    plt.plot(x_pos, T_plus, alpha=0.65, linestyle=\"--\",marker='')\n",
        "\n"
      ],
      "execution_count": 0,
      "outputs": []
    },
    {
      "cell_type": "markdown",
      "metadata": {
        "id": "M9GulfVYBDsA",
        "colab_type": "text"
      },
      "source": [
        "### Interactive plot\n",
        "\n",
        "T_init, T_min, T_max and T_fusion can be picked in this plot. "
      ]
    },
    {
      "cell_type": "code",
      "metadata": {
        "id": "WS8S9cenBDsB",
        "colab_type": "code",
        "colab": {
          "referenced_widgets": [
            "910c653c99b64fc68c5f74985cc1aa8e"
          ]
        },
        "outputId": "203dd092-0cb8-450a-cd4f-97fd77a6f10f"
      },
      "source": [
        "%matplotlib inline\n",
        "interact_manual(compute_and_plot_PCM, T_init = widgets.FloatSlider(value=27,    min=1,\n",
        "                                               max=50.0,\n",
        "                                               step=0.1),\n",
        "                T_min = widgets.FloatSlider(value=20,    min=1,\n",
        "                                               max=50.0,\n",
        "                                               step=0.1),\n",
        "                T_max = widgets.FloatSlider(value=30,    min=1,\n",
        "                                               max=50.0,\n",
        "                                               step=0.1),\n",
        "                Tf = widgets.FloatSlider(value=27,    min=1,\n",
        "                                               max=50.0,\n",
        "                                               step=0.1),\n",
        "hours = widgets.FloatSlider(value=7.5,\n",
        "                                               min=1,\n",
        "                                               max=5.0,\n",
        "                                               step=0.5)\n",
        "               \n",
        "               )\n"
      ],
      "execution_count": 0,
      "outputs": [
        {
          "output_type": "display_data",
          "data": {
            "application/vnd.jupyter.widget-view+json": {
              "model_id": "910c653c99b64fc68c5f74985cc1aa8e",
              "version_major": 2,
              "version_minor": 0
            },
            "text/plain": [
              "interactive(children=(FloatSlider(value=27.0, description='T_init', max=50.0, min=1.0), FloatSlider(value=20.0…"
            ]
          },
          "metadata": {
            "tags": []
          }
        },
        {
          "output_type": "execute_result",
          "data": {
            "text/plain": [
              "<function __main__.compute_and_plot_PCM(T_init, T_min, T_max, Tf, hours)>"
            ]
          },
          "metadata": {
            "tags": []
          },
          "execution_count": 8
        }
      ]
    },
    {
      "cell_type": "code",
      "metadata": {
        "id": "CgzlczpRBDsG",
        "colab_type": "code",
        "colab": {}
      },
      "source": [
        ""
      ],
      "execution_count": 0,
      "outputs": []
    },
    {
      "cell_type": "code",
      "metadata": {
        "id": "0cl1W53dBDsK",
        "colab_type": "code",
        "colab": {}
      },
      "source": [
        ""
      ],
      "execution_count": 0,
      "outputs": []
    }
  ]
}